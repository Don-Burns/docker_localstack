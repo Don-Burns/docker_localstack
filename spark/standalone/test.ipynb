{
 "cells": [
  {
   "cell_type": "code",
   "execution_count": 5,
   "metadata": {},
   "outputs": [
    {
     "name": "stderr",
     "output_type": "stream",
     "text": [
      "22/06/01 15:10:19 WARN Utils$: An error occurred while trying to read the S3 bucket lifecycle configuration\n",
      "java.lang.NullPointerException\n",
      "22/06/01 15:10:19 WARN AbstractS3ACommitterFactory: Using standard FileOutputCommitter to commit work. This is slow and potentially unsafe.\n",
      "22/06/01 15:10:21 WARN AbstractS3ACommitterFactory: Using standard FileOutputCommitter to commit work. This is slow and potentially unsafe.\n",
      "22/06/01 15:10:21 WARN AbstractS3ACommitterFactory: Using standard FileOutputCommitter to commit work. This is slow and potentially unsafe.\n",
      "22/06/01 15:10:21 WARN AbstractS3ACommitterFactory: Using standard FileOutputCommitter to commit work. This is slow and potentially unsafe.\n",
      "22/06/01 15:10:21 WARN AbstractS3ACommitterFactory: Using standard FileOutputCommitter to commit work. This is slow and potentially unsafe.\n",
      "22/06/01 15:10:21 WARN AbstractS3ACommitterFactory: Using standard FileOutputCommitter to commit work. This is slow and potentially unsafe.\n",
      "22/06/01 15:10:21 WARN AbstractS3ACommitterFactory: Using standard FileOutputCommitter to commit work. This is slow and potentially unsafe.\n",
      "22/06/01 15:10:21 WARN AbstractS3ACommitterFactory: Using standard FileOutputCommitter to commit work. This is slow and potentially unsafe.\n",
      "22/06/01 15:10:21 WARN AbstractS3ACommitterFactory: Using standard FileOutputCommitter to commit work. This is slow and potentially unsafe.\n",
      "22/06/01 15:10:21 WARN AbstractS3ACommitterFactory: Using standard FileOutputCommitter to commit work. This is slow and potentially unsafe.\n",
      "22/06/01 15:10:21 WARN AbstractS3ACommitterFactory: Using standard FileOutputCommitter to commit work. This is slow and potentially unsafe.\n",
      "22/06/01 15:10:21 WARN AbstractS3ACommitterFactory: Using standard FileOutputCommitter to commit work. This is slow and potentially unsafe.\n",
      "22/06/01 15:10:21 WARN AbstractS3ACommitterFactory: Using standard FileOutputCommitter to commit work. This is slow and potentially unsafe.\n",
      "22/06/01 15:10:21 WARN AbstractS3ACommitterFactory: Using standard FileOutputCommitter to commit work. This is slow and potentially unsafe.\n",
      "22/06/01 15:10:21 WARN AbstractS3ACommitterFactory: Using standard FileOutputCommitter to commit work. This is slow and potentially unsafe.\n",
      "22/06/01 15:10:21 WARN AbstractS3ACommitterFactory: Using standard FileOutputCommitter to commit work. This is slow and potentially unsafe.\n",
      "22/06/01 15:10:21 WARN AbstractS3ACommitterFactory: Using standard FileOutputCommitter to commit work. This is slow and potentially unsafe.\n",
      "                                                                                \r"
     ]
    }
   ],
   "source": [
    "import json\n",
    "from pyspark.sql import SparkSession, Row\n",
    "import os\n",
    "spark = (\n",
    "    SparkSession.builder.appName(\"test\")\n",
    "    .config(\n",
    "        \"spark.jars.packages\",\n",
    "        \"io.github.spark-redshift-community:spark-redshift_2.12:4.2.0,org.apache.hadoop:hadoop-aws:3.2.3,com.amazonaws:aws-java-sdk-bundle:1.11.901,org.apache.spark:spark-avro_2.12:3.2.0\",\n",
    "    )\n",
    "    .getOrCreate()\n",
    ")\n",
    "if os.environ.get(\"LGC_DEV\") == 'TRUE':\n",
    "    # This is mandate config on spark session to use AWS S3\n",
    "    spark._jsc.hadoopConfiguration().set(\"fs.AbstractFileSystem.s3a.impl\", \"org.apache.hadoop.fs.s3a.S3A\")\n",
    "    # spark._jsc.hadoopConfiguration().set(\"fs.AbstractFileSystem.s3.impl\", \"org.apache.hadoop.fs.s3a.S3A\")\n",
    "    spark._jsc.hadoopConfiguration().set(\"fs.s3a.endpoint\", \"s3.us-east-1.amazonaws.com\")\n",
    "    spark._jsc.hadoopConfiguration().set(\"fs.s3a.impl\", \"org.apache.hadoop.fs.s3a.S3AFileSystem\")\n",
    "    # spark._jsc.hadoopConfiguration().set(\"fs.s3.impl\", \"org.apache.hadoop.fs.s3a.S3AFileSystem\")\n",
    "    spark._jsc.hadoopConfiguration().set(\"fs.s3a.aws.credentials.provider\", \"com.amazonaws.auth.DefaultAWSCredentialsProviderChain\")\n",
    "\n",
    "\n",
    "\n",
    "df = spark.createDataFrame(\n",
    "    [Row(1, \"test_value\"), Row(2, None)]\n",
    ")\n",
    "\n",
    "\n",
    "redshift_data = (\n",
    "        df.write.format(\"io.github.spark_redshift_community.spark.redshift\")\n",
    "        .option(\"url\", f\"\"\"jdbc:redshift://orinoco-us.letsgetchecked-dev1.com:5439/dev_dburns?user=dburns&password=rv.N+FCc>@.KXGpR(H6e\"\"\")\n",
    "        .option(\"tempdir\", \"s3a://development-de-emr-datalake/tmp/redshift_test\")\n",
    "        .option(\"aws_iam_role\", \"arn:aws:iam::983256399917:role/LGCDevQARedShift\")\n",
    "        # .option(\"forward_spark_s3_credentials\", \"true\")\n",
    "        .option(\"dbtable\", \"public.dburns_testing\")\n",
    "        .mode(\"append\").save()\n",
    "    )\n",
    "\n"
   ]
  },
  {
   "cell_type": "code",
   "execution_count": null,
   "metadata": {},
   "outputs": [],
   "source": []
  }
 ],
 "metadata": {
  "interpreter": {
   "hash": "fd69f43f58546b570e94fd7eba7b65e6bcc7a5bbc4eab0408017d18902915d69"
  },
  "kernelspec": {
   "display_name": "Python 3.7.13 64-bit",
   "language": "python",
   "name": "python3"
  },
  "language_info": {
   "codemirror_mode": {
    "name": "ipython",
    "version": 3
   },
   "file_extension": ".py",
   "mimetype": "text/x-python",
   "name": "python",
   "nbconvert_exporter": "python",
   "pygments_lexer": "ipython3",
   "version": "3.7.13"
  },
  "orig_nbformat": 4
 },
 "nbformat": 4,
 "nbformat_minor": 2
}
